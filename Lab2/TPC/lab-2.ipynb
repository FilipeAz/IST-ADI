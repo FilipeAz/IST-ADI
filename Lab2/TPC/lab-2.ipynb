{
 "cells": [
  {
   "cell_type": "markdown",
   "metadata": {},
   "source": [
    "# Learning and Decision Making"
   ]
  },
  {
   "cell_type": "markdown",
   "metadata": {},
   "source": [
    "## Laboratory 2: Markov chains\n",
    "\n",
    "In the end of the lab, you should submit all code/answers written in the tasks marked as \"Activity n. XXX\", together with the corresponding outputs and any replies to specific questions posed to the e-mail <adi.tecnico@gmail.com>. Make sure that the subject is of the form [&lt;group n.&gt;] LAB &lt;lab n.&gt;.\n",
    "\n",
    "### 1. Modeling\n",
    "\n",
    "Consider once again the simplified Trivial game described in the Homework and for which you wrote a Markov chain model:\n",
    "\n",
    "<img src=\"trivial.png\" width=\"400px\">\n",
    "\n",
    "Recall that your chain should describe a single player, where: \n",
    "\n",
    "* The player rolls a single die in each play; \n",
    "* At each intersection, the player continues along any of the possible intersecting paths with equal probability. "
   ]
  },
  {
   "cell_type": "markdown",
   "metadata": {},
   "source": [
    "---\n",
    "\n",
    "#### Activity 1.        \n",
    "\n",
    "Implement your Markov chain model in Python. In particular,\n",
    "\n",
    "* Create a list with all the states;\n",
    "* Define a `numpy` array with the corresponding transition probabilities.\n",
    "\n",
    "The order for the states used in the transition probability matrix should match that in the list of states. \n",
    "\n",
    "**Note 1**: Don't forget to import `numpy`. If you need additional matrix operations (such as matrix powers or eigenvalues and eigenvectors), you may also import the library `numpy.linalg`.\n",
    "\n",
    "**Note 2**: Make sure to print the result in the end.\n",
    "\n",
    "---"
   ]
  },
  {
   "cell_type": "code",
   "execution_count": 1,
   "metadata": {
    "scrolled": true
   },
   "outputs": [
    {
     "name": "stdout",
     "output_type": "stream",
     "text": [
      "[[0.185 0.123 0.123 0.123 0.105 0.043 0.105 0.043 0.105 0.043]\n",
      " [0.185 0.123 0.083 0.083 0.065 0.043 0.065 0.083 0.185 0.083]\n",
      " [0.185 0.083 0.123 0.083 0.065 0.083 0.185 0.083 0.065 0.043]\n",
      " [0.185 0.083 0.083 0.123 0.185 0.083 0.065 0.043 0.065 0.083]\n",
      " [0.105 0.043 0.043 0.123 0.185 0.123 0.105 0.043 0.105 0.123]\n",
      " [0.065 0.043 0.083 0.083 0.185 0.123 0.185 0.083 0.065 0.083]\n",
      " [0.105 0.043 0.123 0.043 0.105 0.123 0.185 0.123 0.105 0.043]\n",
      " [0.065 0.083 0.083 0.043 0.065 0.083 0.185 0.123 0.185 0.083]\n",
      " [0.105 0.123 0.043 0.043 0.105 0.043 0.105 0.123 0.185 0.123]\n",
      " [0.065 0.083 0.043 0.083 0.185 0.083 0.065 0.083 0.185 0.123]]\n",
      "[0, 1, 2, 3, 4, 5, 6, 7, 8, 9]\n"
     ]
    }
   ],
   "source": [
    "import numpy as np\n",
    "\n",
    "#Dictionary displaying the states' neighbors\n",
    "trivial_board = {0: [1, 2, 3],\n",
    "                 1: [0, 8],\n",
    "                 2: [0, 6],\n",
    "                 3: [0, 4],\n",
    "                 4: [3, 5, 9],\n",
    "                 5: [4, 6],\n",
    "                 6: [2, 5, 7],\n",
    "                 7: [6, 8],\n",
    "                 8: [1, 7, 9],\n",
    "                 9: [8, 4]\n",
    "                }\n",
    "\n",
    "#Die's possible values\n",
    "die_values = [1, 2, 3, 4, 5, 6]\n",
    "\n",
    "#Dictionary containing the transition probabilities for every die value\n",
    "matrix_dies = {}\n",
    "\n",
    "#List with all the states\n",
    "states = [0, 1, 2, 3, 4, 5, 6, 7, 8, 9]\n",
    "\n",
    "matrix = np.zeros((10,10))\n",
    "\n",
    "#init matrix when the die shows a 1\n",
    "for pos in states:\n",
    "    for next_pos in trivial_board[pos]:\n",
    "        val = 1 / len(trivial_board[pos])\n",
    "        matrix[pos][next_pos] = val\n",
    "    \n",
    "matrix_dies[1] = matrix\n",
    "matrix_d1 = matrix.copy()\n",
    "\n",
    "#transition probabilities for the other possible die values\n",
    "for die in die_values[1:]:\n",
    "    matrix = np.dot(matrix, matrix_d1)\n",
    "    matrix_dies[die] = matrix\n",
    "        \n",
    "#Transition Probabilities Matrix\n",
    "transProbs = np.zeros((10,10))\n",
    "for matrix in matrix_dies.values():\n",
    "    transProbs += matrix\n",
    "transProbs = transProbs/6\n",
    "\n",
    "np.set_printoptions(precision=3)\n",
    "\n",
    "print(transProbs)\n",
    "print(states)"
   ]
  },
  {
   "cell_type": "markdown",
   "metadata": {},
   "source": [
    "---\n",
    "\n",
    "#### Activity 2.\n",
    "\n",
    "Compute the probability of the following trajectories:\n",
    "\n",
    "* \"Pink with pie piece\" - \"Green in outer rim\" - \"Blue with pie slice\" - \"Pink in outer rim\"\n",
    "* \"Pink with pie piece\" - \"Pink with pie piece\" - \"Blue in outer rim\"\n",
    "* \"Center\" - \"Pink with pie piece\" - \"Blue in outer rim\"\n",
    "\n",
    "**Note:** Make sure to print the result in the end.\n",
    "\n",
    "---"
   ]
  },
  {
   "cell_type": "code",
   "execution_count": 2,
   "metadata": {},
   "outputs": [
    {
     "name": "stdout",
     "output_type": "stream",
     "text": [
      "first trajectory probability:  0.002822514634738381\n",
      "second trajectory probability:  0.02286236854138089\n",
      "third trajectory probability:  0.012955342173449166\n"
     ]
    }
   ],
   "source": [
    "CENTER = 0\n",
    "BLUE_IN_INNER_RIM = 1\n",
    "GREEN_IN_INNER_RIM = 2\n",
    "PINK_IN_INNER_RIM = 3\n",
    "GREEN_WITH_PIE_SLICE = 4\n",
    "PINK_IN_OUTER_RIM = 5\n",
    "BLUE_WITH_PIE_SLICE = 6\n",
    "GREEN_IN_OUTER_RIM = 7\n",
    "PINK_WITH_PIE_PIECE = 8\n",
    "BLUE_IN_OUTER_RIM = 9\n",
    "\n",
    "first_trajectory = transProbs[PINK_WITH_PIE_PIECE][GREEN_IN_OUTER_RIM] * transProbs[GREEN_IN_OUTER_RIM][BLUE_WITH_PIE_SLICE] * transProbs[BLUE_WITH_PIE_SLICE][PINK_IN_OUTER_RIM]\n",
    "\n",
    "second_trajectory = transProbs[PINK_WITH_PIE_PIECE][PINK_WITH_PIE_PIECE] * transProbs[PINK_WITH_PIE_PIECE][BLUE_IN_OUTER_RIM] \n",
    "\n",
    "third_trajectory = transProbs[CENTER][PINK_WITH_PIE_PIECE] * transProbs[PINK_WITH_PIE_PIECE][BLUE_IN_OUTER_RIM]\n",
    "\n",
    "print(\"first trajectory probability: \", first_trajectory)\n",
    "print(\"second trajectory probability: \", second_trajectory)\n",
    "print(\"third trajectory probability: \", third_trajectory)"
   ]
  },
  {
   "cell_type": "markdown",
   "metadata": {},
   "source": [
    "### 2. Stability"
   ]
  },
  {
   "cell_type": "markdown",
   "metadata": {},
   "source": [
    "---\n",
    "\n",
    "#### Activity 3.\n",
    "\n",
    "Justify whether the chain implemented in Activity #1 is:\n",
    "\n",
    "* Irreducible\n",
    "* Aperiodic\n",
    "* Ergodic\n",
    "\n",
    "---"
   ]
  },
  {
   "cell_type": "markdown",
   "metadata": {},
   "source": [
    "The chain is irreducible. This can be seen by analyzing the transition probability matrix and observing that all entries are different than 0, meaning that every state y can be reached from any other state x.\n",
    "\n",
    "By observing the transition probability matrix, we can see that the probability of reaching a state x from the same state x is different than 0. For example, if the chain starts in state x, it can return to the same state at t=1. This means that the chain is aperiodic.\n",
    "\n",
    "Since we already proved that the chain is Irreducible and Aperiodic, the chain is also Ergodic."
   ]
  },
  {
   "cell_type": "markdown",
   "metadata": {},
   "source": [
    "---\n",
    "\n",
    "#### Activity 4\n",
    "\n",
    "Compute the stationary distribution for the chain.\n",
    "\n",
    "**Note:** The stationary distribution is a *left* eigenvector of the transition probability matrix associated to the eigenvalue 1. As such, you may find useful the numpy function `numpy.linalg.eig`. Also, recall that the stationary distribution is *a distribution*.\n",
    "\n",
    "---"
   ]
  },
  {
   "cell_type": "code",
   "execution_count": 9,
   "metadata": {},
   "outputs": [
    {
     "name": "stdout",
     "output_type": "stream",
     "text": [
      "[0.125 0.083 0.083 0.083 0.125 0.083 0.125 0.083 0.125 0.083]\n"
     ]
    }
   ],
   "source": [
    "import numpy.linalg\n",
    "\n",
    "eigens = numpy.linalg.eig(transProbs.T)\n",
    "\n",
    "eigenvalues = eigens[0]\n",
    "\n",
    "#rounding the eigenvalues\n",
    "eigenvalues = eigenvalues.round(decimals=6)\n",
    "\n",
    "eigenvector1 = np.zeros(10)\n",
    "\n",
    "for column in range(0,10):\n",
    "    if eigenvalues[column] == 1:\n",
    "        break\n",
    "        \n",
    "for row in range(0,10):\n",
    "    eigenvector1[row] = eigens[1][row][column]\n",
    "\n",
    "#normalizing\n",
    "sum = np.cumsum(eigenvector1)\n",
    "\n",
    "eigenvector1 = eigenvector1 / sum[-1]\n",
    "    \n",
    "print(eigenvector1)\n"
   ]
  },
  {
   "cell_type": "markdown",
   "metadata": {},
   "source": [
    "### 3. Simulation\n",
    "\n",
    "You are now going to *simulate* the Markov chain that you defined in Question #1."
   ]
  },
  {
   "cell_type": "markdown",
   "metadata": {},
   "source": [
    "---\n",
    "\n",
    "#### Activity 5\n",
    "\n",
    "Generate a 10,000-step long trajectory of the chain defined in Activity #1. \n",
    "\n",
    "---"
   ]
  },
  {
   "cell_type": "code",
   "execution_count": 6,
   "metadata": {
    "scrolled": true
   },
   "outputs": [
    {
     "name": "stdout",
     "output_type": "stream",
     "text": [
      "[0 0 0 ... 8 8 1]\n"
     ]
    }
   ],
   "source": [
    "long_trajectory = np.zeros(10000,dtype=np.int32)\n",
    "\n",
    "long_trajectory[0] = np.random.choice(states)\n",
    "\n",
    "for i in range(1,10000):\n",
    "    long_trajectory[i] = np.random.choice(10, 1, p = transProbs[long_trajectory[i-1]].tolist())\n",
    "\n",
    "print(long_trajectory)\n",
    "    "
   ]
  },
  {
   "cell_type": "markdown",
   "metadata": {},
   "source": [
    "---\n",
    "\n",
    "#### Activity 6\n",
    "\n",
    "Draw a histogram of the trajectory generated in Activity #5. Make sure that the histogram has one bin for each state. Compare the relative frequencies with the result of Activity #4.\n",
    "\n",
    "**Note**: Don't forget to load `matplotlib`.\n",
    "\n",
    "---"
   ]
  },
  {
   "cell_type": "code",
   "execution_count": null,
   "metadata": {},
   "outputs": [],
   "source": [
    "# Insert your code here"
   ]
  },
  {
   "cell_type": "markdown",
   "metadata": {},
   "source": [
    "_Provide your answer here (double click to edit)._"
   ]
  }
 ],
 "metadata": {
  "kernelspec": {
   "display_name": "Python 3",
   "language": "python",
   "name": "python3"
  },
  "language_info": {
   "codemirror_mode": {
    "name": "ipython",
    "version": 3
   },
   "file_extension": ".py",
   "mimetype": "text/x-python",
   "name": "python",
   "nbconvert_exporter": "python",
   "pygments_lexer": "ipython3",
   "version": "3.6.4"
  }
 },
 "nbformat": 4,
 "nbformat_minor": 1
}
