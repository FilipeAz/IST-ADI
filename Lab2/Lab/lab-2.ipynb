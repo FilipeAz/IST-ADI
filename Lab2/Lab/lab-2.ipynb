{
 "cells": [
  {
   "cell_type": "markdown",
   "metadata": {},
   "source": [
    "# Learning and Decision Making"
   ]
  },
  {
   "cell_type": "markdown",
   "metadata": {},
   "source": [
    "## Laboratory 3: Markov decision problems\n",
    "\n",
    "In the end of the lab, you should submit all code/answers written in the tasks marked as \"Activity n. XXX\", together with the corresponding outputs and any replies to specific questions posed to the e-mail <adi.tecnico@gmail.com>. Make sure that the subject is of the form [&lt;group n.&gt;] LAB &lt;lab n.&gt;.\n",
    "\n",
    "### 1. Modeling\n",
    "\n",
    "Consider once again the knight domain described in the Homework and which you described as a Markov decision process.\n",
    "\n",
    "<img src=\"knight.png\" width=\"200px\">\n",
    "\n",
    "Recall that:\n",
    "\n",
    "* At each step, the knight may move in any of the four directions---up, down, left and right. \n",
    "\n",
    "* The movement succeeds with a 0.6 probability and fails with a 0.4 probability. When the movement fails, the knight may stay in the same cell or move to one of the immediately adjacent cells (if there is one) with equal probability.\n",
    "\n",
    "* The goal of the knight is to save (reach) the princess and avoid the dragon.\n",
    "\n",
    "**Throughout the lab, use $\\gamma=0.99$.**"
   ]
  },
  {
   "cell_type": "markdown",
   "metadata": {},
   "source": [
    "---\n",
    "\n",
    "#### Activity 1.        \n",
    "\n",
    "Implement your Markov decision process in Python. In particular,\n",
    "\n",
    "* Create a list with all the states;\n",
    "* Create a list with all the actions;\n",
    "* For each action, define a `numpy` array with the corresponding transition probabilities;\n",
    "* Define a `numpy`array with the costs. Make sure that:\n",
    "    * The costs lie in the interval [0, 1]\n",
    "    * The cost for standing in the princess's cell is minimal\n",
    "    * The cost for standing in the dragon's cell is maximal\n",
    "    * The costs for the intermediate cells are around 1/5 of those of standing in the dragon's cell\n",
    "\n",
    "The order for the states and actions used in the transition probability and cost matrices should match that in the lists of states and actions. \n",
    "\n",
    "**Note**: Don't forget to import `numpy`.\n",
    "\n",
    "---"
   ]
  },
  {
   "cell_type": "code",
   "execution_count": 1,
   "metadata": {
    "raw_mimetype": "text/x-python"
   },
   "outputs": [],
   "source": [
    "import numpy as np\n",
    "States = {1,2,3,4,5,6}\n",
    "\n",
    "Actions = ['Up', 'Down', 'Left', 'Right']\n",
    "\n",
    "PUp = np.array([[0.8, 0.1, 0.0, 0.1, 0.0, 0.0],\n",
    "   [0.1, 0.7, 0.1, 0.0, 0.1, 0.0],\n",
    "   [0.0, 0.1, 0.8, 0.0, 0.0, 0.1],\n",
    "   [0.6, 0.0, 0.0, 0.3, 0.1, 0.0],\n",
    "   [0.0, 0.6, 0.0, 0.1, 0.2, 0.1],\n",
    "   [0.0, 0.0, 0.6, 0.0, 0.1, 0.3]])\n",
    "\n",
    "PDown = np.array([[0.3, 0.1, 0.0, 0.6, 0.0, 0.0],\n",
    "     [0.1, 0.2, 0.1, 0.0, 0.6, 0.0],\n",
    "     [0.0, 0.1, 0.3, 0.0, 0.0, 0.6],\n",
    "     [0.1, 0.0, 0.0, 0.8, 0.1, 0.0],\n",
    "     [0.0, 0.1, 0.0, 0.1, 0.7, 0.1],\n",
    "     [0.0, 0.0, 0.1, 0.0, 0.1, 0.8]])\n",
    "\n",
    "PLeft = np.array([[0.8, 0.1, 0.0, 0.1, 0.0, 0.0],\n",
    "     [0.6, 0.2, 0.1, 0.0, 0.1, 0.0],\n",
    "     [0.0, 0.6, 0.3, 0.0, 0.0, 0.1],\n",
    "     [0.1, 0.0, 0.0, 0.8, 0.1, 0.0],\n",
    "     [0.0, 0.1, 0.0, 0.6, 0.2, 0.1],\n",
    "     [0.0, 0.0, 0.1, 0.0, 0.6, 0.3]])\n",
    "\n",
    "PRight = np.array([[0.3, 0.6, 0.0, 0.1, 0.0, 0.0],\n",
    "      [0.1, 0.2, 0.6, 0.0, 0.1, 0.0],\n",
    "      [0.0, 0.1, 0.8, 0.0, 0.0, 0.1],\n",
    "      [0.1, 0.0, 0.0, 0.3, 0.6, 0.0],\n",
    "      [0.0, 0.1, 0.0, 0.1, 0.2, 0.6],\n",
    "      [0.0, 0.0, 0.1, 0.0, 0.1, 0.8]])\n",
    "\n",
    "C = np.array([[0.2], [0.2], [0.2], [0.2], [1.0], [0.0]])\n"
   ]
  },
  {
   "cell_type": "markdown",
   "metadata": {},
   "source": [
    "### 2. Prediction\n",
    "\n",
    "You are now going to evaluate a given policy, computing the corresponding cost-to-go."
   ]
  },
  {
   "cell_type": "markdown",
   "metadata": {
    "raw_mimetype": "text/latex"
   },
   "source": [
    "---\n",
    "\n",
    "#### Activity 2.\n",
    "\n",
    "Describe the policy that, in each state $x$, always moves the knight to the cell closest to the princess (irrespectively of the dragon). If multiple such cells exist, the knight should select randomly between the two.\n",
    "\n",
    "For example, suppose that the knight is in cell 1. The knight should then select randomly between the actions _D_ and _R_. Conversely, suppose that the knight is in cell 4. The knight should then select actions _R_ with probability 1.\n",
    "\n",
    "**Note:** The policy should be described as a vector with as many rows as there are states and as many columns as there are actions, where the entry _xa_ has the probability of selecting action _a_ in state _x_.\n",
    "\n",
    "---"
   ]
  },
  {
   "cell_type": "code",
   "execution_count": 16,
   "metadata": {},
   "outputs": [
    {
     "name": "stdout",
     "output_type": "stream",
     "text": [
      "[[0.  0.5 0.  0.5]\n",
      " [0.  0.5 0.  0.5]\n",
      " [0.  1.  0.  0. ]\n",
      " [0.  0.  0.  1. ]\n",
      " [0.  0.  0.  1. ]\n",
      " [0.  0.5 0.  0.5]]\n"
     ]
    }
   ],
   "source": [
    "P = np.array([[0.0, 0.5, 0.0, 0.5],\n",
    "                 [0.0, 0.5, 0.0, 0.5],\n",
    "                 [0.0, 1.0, 0.0, 0.0],\n",
    "                 [0.0, 0.0, 0.0, 1.0],\n",
    "                 [0.0, 0.0, 0.0, 1.0],\n",
    "                 [0.0, 0.5, 0.0, 0.5]])\n",
    "\n",
    "\n",
    "print(P)\n",
    "                    \n",
    "        \n",
    "        \n"
   ]
  },
  {
   "cell_type": "markdown",
   "metadata": {},
   "source": [
    "---\n",
    "\n",
    "#### Activity 3.\n",
    "\n",
    "Compute the cost-to-go function $J^\\pi$ associated with the policy from Activity 2.\n",
    "\n",
    "---"
   ]
  },
  {
   "attachments": {
    "image.png": {
     "image/png": "[encoded data removed]"
    }
   },
   "cell_type": "markdown",
   "metadata": {},
   "source": [
    "![image.png](attachment:image.png)"
   ]
  },
  {
   "cell_type": "code",
   "execution_count": 18,
   "metadata": {},
   "outputs": [
    {
     "name": "stdout",
     "output_type": "stream",
     "text": [
      "[[16.26056701]\n",
      " [15.95826371]\n",
      " [15.28584405]\n",
      " [16.45495016]\n",
      " [16.42766638]\n",
      " [15.09441121]]\n"
     ]
    }
   ],
   "source": [
    "Actions = {0: PUp, 1: PDown, 2:PLeft, 3:PRight}\n",
    "\n",
    "P_final = np.zeros((6,6))\n",
    "for pos in range(0,6):\n",
    "    # print('pos: ',pos)\n",
    "    for act in range(0,4):\n",
    "        # print('Action: ', act)\n",
    "        if P[pos][act] > 0:\n",
    "            # print('value: ', P[pos][act])\n",
    "            to_add = P[pos][act]*Actions[act][pos]\n",
    "            # print('to_add', to_add)\n",
    "            P_final[pos] += P[pos][act]*Actions[act][pos]\n",
    "            # print('P_final: ', P_final)\n",
    "\n",
    "I = np.identity(6)\n",
    "Y = 0.99\n",
    "m1 = (I - Y*P_final)\n",
    "m2 = (np.linalg.inv(m1)).dot(C)\n",
    "print(m2)"
   ]
  },
  {
   "cell_type": "markdown",
   "metadata": {},
   "source": [
    "### 3. Control\n",
    "\n",
    "In this section you are going to compare value and policy iteration, both in terms of time and number of iterations."
   ]
  },
  {
   "cell_type": "markdown",
   "metadata": {},
   "source": [
    "---\n",
    "\n",
    "#### Activity 4\n",
    "\n",
    "Show that the policy in Activity 3 is _not_ optimal: use value iteration to compute $J^*$ and show that $J^*\\neq J^\\pi$. Track the time and the number of iterations taken to compute $J^*$.\n",
    "\n",
    "**Note 1:** Stop the algorithm when the error between iterations is smaller than $10^{-8}$.\n",
    "\n",
    "**Note 2:** You may find useful the function ``time()`` from the module ``time``.\n",
    "\n",
    "---"
   ]
  },
  {
   "cell_type": "code",
   "execution_count": 42,
   "metadata": {
    "scrolled": true
   },
   "outputs": [
    {
     "name": "stdout",
     "output_type": "stream",
     "text": [
      "J: \n",
      " [[14.06797074]\n",
      " [13.93809867]\n",
      " [13.67954678]\n",
      " [14.24800834]\n",
      " [14.74722471]\n",
      " [13.53004987]]\n",
      "Number of interations: 1726\n",
      "Time: 0.04712629318237305\n"
     ]
    }
   ],
   "source": [
    "import time\n",
    "\n",
    "P = np.squeeze(np.asarray(m2))\n",
    "J = np.zeros((6,1))\n",
    "gamma = Y\n",
    "err = 1\n",
    "i = 0\n",
    "\n",
    "initial_time = time.time()\n",
    "\n",
    "while err > 1e-8:\n",
    "    QUp = C + Y*PUp.dot(J)\n",
    "    QDown = C + Y*PDown.dot(J)\n",
    "    QLeft = C + Y*PLeft.dot(J)\n",
    "    QRight = C + Y*PRight.dot(J)\n",
    "    Jnew = np.min((QUp, QDown, QLeft, QRight), axis=0)\n",
    "    err = np.linalg.norm(Jnew - J)\n",
    "    i += 1\n",
    "    J = Jnew\n",
    "J_final = J\n",
    "print('J: \\n', J_final)\n",
    "print(\"Number of interations:\",i)\n",
    "\n",
    "print(\"Time:\", time.time() - initial_time)"
   ]
  },
  {
   "cell_type": "markdown",
   "metadata": {},
   "source": [
    "---\n",
    "\n",
    "#### Activity 5\n",
    "\n",
    "Compute once again the optimal policy now using policy iteration. Track the time and number of iterations taken and compare to those of Activity 4.\n",
    "\n",
    "**Note:** If you find that numerical errors affect your computations (especially when comparing two values/arrays) you may use the `numpy` function `isclose` with adequately set absolute and relative tolerance parameters (e.g., $10^{-8}$).\n",
    "\n",
    "---"
   ]
  },
  {
   "cell_type": "code",
   "execution_count": 15,
   "metadata": {
    "scrolled": false
   },
   "outputs": [
    {
     "name": "stdout",
     "output_type": "stream",
     "text": [
      "[[0.  0.  0.  1. ]\n",
      " [0.  0.  0.  1. ]\n",
      " [0.  1.  0.  0. ]\n",
      " [1.  0.  0.  0. ]\n",
      " [0.  0.  0.  1. ]\n",
      " [0.  0.5 0.  0.5]]\n",
      "Number of iterations: 3\n",
      "Time: 0.0030100345611572266\n"
     ]
    }
   ],
   "source": [
    "pi = np.ones((6,4))/4\n",
    "\n",
    "quit = False\n",
    "\n",
    "initial_time = time.time()\n",
    "it = 0\n",
    "\n",
    "while not quit:\n",
    "    cpi = np.diag(pi[:,0]).dot(C) + np.diag(pi[:,1]).dot(C) + np.diag(pi[:,2]).dot(C) + np.diag(pi[:,3]).dot(C)\n",
    "    Ppi = np.diag(pi[:,0]).dot(PUp) + np.diag(pi[:,1]).dot(PDown) + np.diag(pi[:,2]).dot(PLeft) + np.diag(pi[:,3]).dot(PRight)\n",
    "    J = np.linalg.inv(np.eye(6) - Y*Ppi).dot(cpi)\n",
    "    \n",
    "    QUp = C + Y*PUp.dot(J)\n",
    "    QDown = C + Y*PDown.dot(J)\n",
    "    QLeft = C + Y*PLeft.dot(J)\n",
    "    QRight = C + Y*PRight.dot(J)\n",
    "    \n",
    "    pinew = np.zeros((6,4))\n",
    "    \n",
    "    pinew[:, 0, None] = np.isclose(QUp, np.min([QUp, QDown, QLeft, QRight], axis=0), atol=1e-10, rtol=1e-10).astype(int)\n",
    "    pinew[:, 1, None] = np.isclose(QDown, np.min([QUp, QDown, QLeft, QRight], axis=0), atol=1e-10, rtol=1e-10).astype(int)\n",
    "    pinew[:, 2, None] = np.isclose(QLeft, np.min([QUp, QDown, QLeft, QRight], axis=0), atol=1e-10, rtol=1e-10).astype(int)\n",
    "    pinew[:, 3, None] = np.isclose(QRight, np.min([QUp, QDown, QLeft, QRight], axis=0), atol=1e-10, rtol=1e-10).astype(int)\n",
    "    \n",
    "    pinew = pinew / np.sum(pinew, axis=1, keepdims = True)\n",
    "    \n",
    "    quit = (pi == pinew).all()\n",
    "    pi = pinew\n",
    "    it +=1\n",
    "\n",
    "print(pi)\n",
    "print(\"Number of iterations:\", it)\n",
    "print(\"Time:\", time.time() - initial_time)"
   ]
  },
  {
   "cell_type": "markdown",
   "metadata": {},
   "source": [
    "### 4. Simulation\n",
    "\n",
    "Finally, in this section you will check whether the theoretical computations of the cost-to-go actually correspond to the cost incurred by an agent following a policy."
   ]
  },
  {
   "cell_type": "markdown",
   "metadata": {},
   "source": [
    "---\n",
    "\n",
    "#### Activity 6\n",
    "\n",
    "Starting both in cell 1 and cell 5 in the figure, \n",
    "\n",
    "* Generate **100** trajectories of 10,000 steps each, following the optimal policy for the MDP. \n",
    "* For each trajectory, compute the accumulated (discounted) cost. \n",
    "* Compute the average cost over the 100 trajectories.\n",
    "* Compare the resulting value with that computed in Activity 4 for the two states. \n",
    "\n",
    "** Note:** The simulation may take a bit of time, don't despair ☺️.\n",
    "\n",
    "---"
   ]
  },
  {
   "cell_type": "code",
   "execution_count": 48,
   "metadata": {},
   "outputs": [
    {
     "name": "stdout",
     "output_type": "stream",
     "text": [
      "Average cost starting in cell 1: 14.273436908708197\n",
      "Average cost starting in cell 5: 14.417655091924344\n"
     ]
    }
   ],
   "source": [
    "trajectory_one = np.zeros(10000,dtype=np.int32)\n",
    "trajectory_five = np.zeros(10000,dtype=np.int32)\n",
    "\n",
    "Actions = {0: PUp, 1: PDown, 2:PLeft, 3:PRight}\n",
    "\n",
    "P=pi\n",
    "\n",
    "P_final = np.zeros((6,6))\n",
    "for pos in range(0,6):\n",
    "    for act in range(0,4):\n",
    "        if P[pos][act] > 0:\n",
    "            to_add = P[pos][act]*Actions[act][pos]\n",
    "            P_final[pos] += P[pos][act]*Actions[act][pos]\n",
    "            \n",
    "\n",
    "trajectories = {1 : [], 5 : []}\n",
    "trajectories_cost = { 1 : [], 5 : []}\n",
    "\n",
    "\n",
    "for i in range(0,100):\n",
    "    trajectory_one[0] = 1\n",
    "    trajectory_five[0] = 5\n",
    "    \n",
    "    cost_one = cpi[trajectory_one[0]-1][0]\n",
    "    cost_five = cpi[trajectory_five[0]-1][0]\n",
    "    for j in range(1,10000):\n",
    "        trajectory_one[j] = np.random.choice(6, 1, p = P_final[trajectory_one[j-1]-1].tolist()) + 1 \n",
    "        cost_one += (Y**j) * cpi[trajectory_one[j]-1][0]\n",
    "        \n",
    "        trajectory_five[j] = np.random.choice(6, 1, p = P_final[trajectory_five[j-1]-1].tolist()) + 1\n",
    "        cost_five += (Y**j) * cpi[trajectory_five[j]-1][0]\n",
    "        \n",
    "        \n",
    "    trajectories[1].append(trajectory_one)\n",
    "    trajectories[5].append(trajectory_five)\n",
    "    \n",
    "    trajectories_cost[1].append(cost_one)\n",
    "    trajectories_cost[5].append(cost_five)\n",
    "    \n",
    "\n",
    "avg_one = np.sum(trajectories_cost[1])/100\n",
    "avg_five = np.sum(trajectories_cost[5])/100\n",
    "    \n",
    "\n",
    "print(\"Average cost starting in cell 1:\",avg_one)\n",
    "print(\"Average cost starting in cell 5:\",avg_five)\n",
    "        "
   ]
  },
  {
   "cell_type": "markdown",
   "metadata": {},
   "source": [
    "As can be expected, the average cost of the trajectories that start in cell 1 is smaller than the average cost of the trajectories that start in cell 5, just like in activity 4. However, since we are now utilizing the optimal policy, the average costs are smaller than in activity 4."
   ]
  },
  {
   "cell_type": "code",
   "execution_count": null,
   "metadata": {},
   "outputs": [],
   "source": []
  }
 ],
 "metadata": {
  "celltoolbar": "Raw Cell Format",
  "kernelspec": {
   "display_name": "Python 3",
   "language": "python",
   "name": "python3"
  },
  "language_info": {
   "codemirror_mode": {
    "name": "ipython",
    "version": 3
   },
   "file_extension": ".py",
   "mimetype": "text/x-python",
   "name": "python",
   "nbconvert_exporter": "python",
   "pygments_lexer": "ipython3",
   "version": "3.6.4"
  }
 },
 "nbformat": 4,
 "nbformat_minor": 1
}
